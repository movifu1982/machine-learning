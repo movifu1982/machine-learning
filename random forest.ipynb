{
 "cells": [
  {
   "cell_type": "code",
   "execution_count": 71,
   "metadata": {},
   "outputs": [],
   "source": [
    "# data normalisation with sklearn\n",
    "from sklearn.preprocessing import MinMaxScaler\n",
    "from sklearn.preprocessing import OneHotEncoder\n",
    "from sklearn.preprocessing import LabelEncoder\n",
    "import numpy as np\n",
    "import pandas as pd\n",
    "import matplotlib.pyplot as plt\n",
    "import seaborn as sns\n",
    "from scipy import stats\n"
   ]
  },
  {
   "cell_type": "code",
   "execution_count": 72,
   "metadata": {},
   "outputs": [],
   "source": [
    "white_wine = pd.read_csv('https://archive.ics.uci.edu/ml/machine-learning-databases/wine-quality/winequality-white.csv', sep=\";\")"
   ]
  },
  {
   "cell_type": "code",
   "execution_count": 73,
   "metadata": {},
   "outputs": [],
   "source": [
    "ohe = OneHotEncoder"
   ]
  },
  {
   "cell_type": "code",
   "execution_count": 74,
   "metadata": {},
   "outputs": [
    {
     "data": {
      "text/html": [
       "<div>\n",
       "<style scoped>\n",
       "    .dataframe tbody tr th:only-of-type {\n",
       "        vertical-align: middle;\n",
       "    }\n",
       "\n",
       "    .dataframe tbody tr th {\n",
       "        vertical-align: top;\n",
       "    }\n",
       "\n",
       "    .dataframe thead th {\n",
       "        text-align: right;\n",
       "    }\n",
       "</style>\n",
       "<table border=\"1\" class=\"dataframe\">\n",
       "  <thead>\n",
       "    <tr style=\"text-align: right;\">\n",
       "      <th></th>\n",
       "      <th>fixed acidity</th>\n",
       "      <th>volatile acidity</th>\n",
       "      <th>citric acid</th>\n",
       "      <th>residual sugar</th>\n",
       "      <th>chlorides</th>\n",
       "      <th>free sulfur dioxide</th>\n",
       "      <th>total sulfur dioxide</th>\n",
       "      <th>density</th>\n",
       "      <th>pH</th>\n",
       "      <th>sulphates</th>\n",
       "      <th>alcohol</th>\n",
       "      <th>quality</th>\n",
       "      <th>quality_label</th>\n",
       "    </tr>\n",
       "  </thead>\n",
       "  <tbody>\n",
       "    <tr>\n",
       "      <th>0</th>\n",
       "      <td>7.0</td>\n",
       "      <td>0.27</td>\n",
       "      <td>0.36</td>\n",
       "      <td>20.7</td>\n",
       "      <td>0.045</td>\n",
       "      <td>45.0</td>\n",
       "      <td>170.0</td>\n",
       "      <td>1.00100</td>\n",
       "      <td>3.00</td>\n",
       "      <td>0.45</td>\n",
       "      <td>8.8</td>\n",
       "      <td>6</td>\n",
       "      <td>medium</td>\n",
       "    </tr>\n",
       "    <tr>\n",
       "      <th>1</th>\n",
       "      <td>6.3</td>\n",
       "      <td>0.30</td>\n",
       "      <td>0.34</td>\n",
       "      <td>1.6</td>\n",
       "      <td>0.049</td>\n",
       "      <td>14.0</td>\n",
       "      <td>132.0</td>\n",
       "      <td>0.99400</td>\n",
       "      <td>3.30</td>\n",
       "      <td>0.49</td>\n",
       "      <td>9.5</td>\n",
       "      <td>6</td>\n",
       "      <td>medium</td>\n",
       "    </tr>\n",
       "    <tr>\n",
       "      <th>2</th>\n",
       "      <td>8.1</td>\n",
       "      <td>0.28</td>\n",
       "      <td>0.40</td>\n",
       "      <td>6.9</td>\n",
       "      <td>0.050</td>\n",
       "      <td>30.0</td>\n",
       "      <td>97.0</td>\n",
       "      <td>0.99510</td>\n",
       "      <td>3.26</td>\n",
       "      <td>0.44</td>\n",
       "      <td>10.1</td>\n",
       "      <td>6</td>\n",
       "      <td>medium</td>\n",
       "    </tr>\n",
       "    <tr>\n",
       "      <th>3</th>\n",
       "      <td>7.2</td>\n",
       "      <td>0.23</td>\n",
       "      <td>0.32</td>\n",
       "      <td>8.5</td>\n",
       "      <td>0.058</td>\n",
       "      <td>47.0</td>\n",
       "      <td>186.0</td>\n",
       "      <td>0.99560</td>\n",
       "      <td>3.19</td>\n",
       "      <td>0.40</td>\n",
       "      <td>9.9</td>\n",
       "      <td>6</td>\n",
       "      <td>medium</td>\n",
       "    </tr>\n",
       "    <tr>\n",
       "      <th>4</th>\n",
       "      <td>7.2</td>\n",
       "      <td>0.23</td>\n",
       "      <td>0.32</td>\n",
       "      <td>8.5</td>\n",
       "      <td>0.058</td>\n",
       "      <td>47.0</td>\n",
       "      <td>186.0</td>\n",
       "      <td>0.99560</td>\n",
       "      <td>3.19</td>\n",
       "      <td>0.40</td>\n",
       "      <td>9.9</td>\n",
       "      <td>6</td>\n",
       "      <td>medium</td>\n",
       "    </tr>\n",
       "    <tr>\n",
       "      <th>...</th>\n",
       "      <td>...</td>\n",
       "      <td>...</td>\n",
       "      <td>...</td>\n",
       "      <td>...</td>\n",
       "      <td>...</td>\n",
       "      <td>...</td>\n",
       "      <td>...</td>\n",
       "      <td>...</td>\n",
       "      <td>...</td>\n",
       "      <td>...</td>\n",
       "      <td>...</td>\n",
       "      <td>...</td>\n",
       "      <td>...</td>\n",
       "    </tr>\n",
       "    <tr>\n",
       "      <th>4893</th>\n",
       "      <td>6.2</td>\n",
       "      <td>0.21</td>\n",
       "      <td>0.29</td>\n",
       "      <td>1.6</td>\n",
       "      <td>0.039</td>\n",
       "      <td>24.0</td>\n",
       "      <td>92.0</td>\n",
       "      <td>0.99114</td>\n",
       "      <td>3.27</td>\n",
       "      <td>0.50</td>\n",
       "      <td>11.2</td>\n",
       "      <td>6</td>\n",
       "      <td>medium</td>\n",
       "    </tr>\n",
       "    <tr>\n",
       "      <th>4894</th>\n",
       "      <td>6.6</td>\n",
       "      <td>0.32</td>\n",
       "      <td>0.36</td>\n",
       "      <td>8.0</td>\n",
       "      <td>0.047</td>\n",
       "      <td>57.0</td>\n",
       "      <td>168.0</td>\n",
       "      <td>0.99490</td>\n",
       "      <td>3.15</td>\n",
       "      <td>0.46</td>\n",
       "      <td>9.6</td>\n",
       "      <td>5</td>\n",
       "      <td>medium</td>\n",
       "    </tr>\n",
       "    <tr>\n",
       "      <th>4895</th>\n",
       "      <td>6.5</td>\n",
       "      <td>0.24</td>\n",
       "      <td>0.19</td>\n",
       "      <td>1.2</td>\n",
       "      <td>0.041</td>\n",
       "      <td>30.0</td>\n",
       "      <td>111.0</td>\n",
       "      <td>0.99254</td>\n",
       "      <td>2.99</td>\n",
       "      <td>0.46</td>\n",
       "      <td>9.4</td>\n",
       "      <td>6</td>\n",
       "      <td>medium</td>\n",
       "    </tr>\n",
       "    <tr>\n",
       "      <th>4896</th>\n",
       "      <td>5.5</td>\n",
       "      <td>0.29</td>\n",
       "      <td>0.30</td>\n",
       "      <td>1.1</td>\n",
       "      <td>0.022</td>\n",
       "      <td>20.0</td>\n",
       "      <td>110.0</td>\n",
       "      <td>0.98869</td>\n",
       "      <td>3.34</td>\n",
       "      <td>0.38</td>\n",
       "      <td>12.8</td>\n",
       "      <td>7</td>\n",
       "      <td>high</td>\n",
       "    </tr>\n",
       "    <tr>\n",
       "      <th>4897</th>\n",
       "      <td>6.0</td>\n",
       "      <td>0.21</td>\n",
       "      <td>0.38</td>\n",
       "      <td>0.8</td>\n",
       "      <td>0.020</td>\n",
       "      <td>22.0</td>\n",
       "      <td>98.0</td>\n",
       "      <td>0.98941</td>\n",
       "      <td>3.26</td>\n",
       "      <td>0.32</td>\n",
       "      <td>11.8</td>\n",
       "      <td>6</td>\n",
       "      <td>medium</td>\n",
       "    </tr>\n",
       "  </tbody>\n",
       "</table>\n",
       "<p>4898 rows × 13 columns</p>\n",
       "</div>"
      ],
      "text/plain": [
       "      fixed acidity  volatile acidity  citric acid  residual sugar  chlorides  \\\n",
       "0               7.0              0.27         0.36            20.7      0.045   \n",
       "1               6.3              0.30         0.34             1.6      0.049   \n",
       "2               8.1              0.28         0.40             6.9      0.050   \n",
       "3               7.2              0.23         0.32             8.5      0.058   \n",
       "4               7.2              0.23         0.32             8.5      0.058   \n",
       "...             ...               ...          ...             ...        ...   \n",
       "4893            6.2              0.21         0.29             1.6      0.039   \n",
       "4894            6.6              0.32         0.36             8.0      0.047   \n",
       "4895            6.5              0.24         0.19             1.2      0.041   \n",
       "4896            5.5              0.29         0.30             1.1      0.022   \n",
       "4897            6.0              0.21         0.38             0.8      0.020   \n",
       "\n",
       "      free sulfur dioxide  total sulfur dioxide  density    pH  sulphates  \\\n",
       "0                    45.0                 170.0  1.00100  3.00       0.45   \n",
       "1                    14.0                 132.0  0.99400  3.30       0.49   \n",
       "2                    30.0                  97.0  0.99510  3.26       0.44   \n",
       "3                    47.0                 186.0  0.99560  3.19       0.40   \n",
       "4                    47.0                 186.0  0.99560  3.19       0.40   \n",
       "...                   ...                   ...      ...   ...        ...   \n",
       "4893                 24.0                  92.0  0.99114  3.27       0.50   \n",
       "4894                 57.0                 168.0  0.99490  3.15       0.46   \n",
       "4895                 30.0                 111.0  0.99254  2.99       0.46   \n",
       "4896                 20.0                 110.0  0.98869  3.34       0.38   \n",
       "4897                 22.0                  98.0  0.98941  3.26       0.32   \n",
       "\n",
       "      alcohol  quality quality_label  \n",
       "0         8.8        6        medium  \n",
       "1         9.5        6        medium  \n",
       "2        10.1        6        medium  \n",
       "3         9.9        6        medium  \n",
       "4         9.9        6        medium  \n",
       "...       ...      ...           ...  \n",
       "4893     11.2        6        medium  \n",
       "4894      9.6        5        medium  \n",
       "4895      9.4        6        medium  \n",
       "4896     12.8        7          high  \n",
       "4897     11.8        6        medium  \n",
       "\n",
       "[4898 rows x 13 columns]"
      ]
     },
     "execution_count": 74,
     "metadata": {},
     "output_type": "execute_result"
    }
   ],
   "source": [
    "white_wine['quality_label'] = white_wine['quality'].apply(lambda value: 'low'\n",
    "if value <= 4 else 'medium'\n",
    "if value <= 6 else 'high')\n",
    "\n",
    "# 3 4 5 are low, 6 7 medium, 8 and nonexistent 9 are high\n",
    "#changed to: 3 4 low, 5 6 medium, 7 8 (and 9) high\n",
    "\n",
    "white_wine['quality_label'] = pd.Categorical(white_wine['quality_label'],\n",
    "categories=['low', 'medium', 'high'])\n",
    "\n",
    "white_wine"
   ]
  },
  {
   "cell_type": "code",
   "execution_count": 75,
   "metadata": {},
   "outputs": [],
   "source": [
    "#Skewness measures asymmetry in the data distribution\n",
    "\n",
    "#print(white_wine['residual sugar'].astype(float).skew())"
   ]
  },
  {
   "cell_type": "code",
   "execution_count": 76,
   "metadata": {},
   "outputs": [],
   "source": [
    "#Kurtosis identifies outliers: data with high kurtosis (heavy-tailed data) is proof of outliers, and data with low kurtosis (light-tailed data) lacks them.\n",
    "\n",
    "#print(white_wine['residual sugar'].astype(float).kurt())"
   ]
  },
  {
   "cell_type": "code",
   "execution_count": 77,
   "metadata": {},
   "outputs": [],
   "source": [
    "# x is all the features Im keeping\n",
    "# y is target, quality , the new name.\n",
    "\n",
    "#X.drop(['SalePrice'],axis=1,inplace=True) REMEMBER THE INPLACE!!"
   ]
  },
  {
   "cell_type": "code",
   "execution_count": 78,
   "metadata": {},
   "outputs": [],
   "source": [
    "#white_wine[\"quality_label\"].unique()\n",
    "#white_wine [\"quality_label\"].value_counts()"
   ]
  },
  {
   "cell_type": "code",
   "execution_count": 79,
   "metadata": {},
   "outputs": [],
   "source": [
    "#LOGISTIC REGRESSION"
   ]
  },
  {
   "cell_type": "code",
   "execution_count": 80,
   "metadata": {},
   "outputs": [],
   "source": [
    "le = LabelEncoder()"
   ]
  },
  {
   "cell_type": "code",
   "execution_count": 81,
   "metadata": {},
   "outputs": [
    {
     "data": {
      "text/html": [
       "<div>\n",
       "<style scoped>\n",
       "    .dataframe tbody tr th:only-of-type {\n",
       "        vertical-align: middle;\n",
       "    }\n",
       "\n",
       "    .dataframe tbody tr th {\n",
       "        vertical-align: top;\n",
       "    }\n",
       "\n",
       "    .dataframe thead th {\n",
       "        text-align: right;\n",
       "    }\n",
       "</style>\n",
       "<table border=\"1\" class=\"dataframe\">\n",
       "  <thead>\n",
       "    <tr style=\"text-align: right;\">\n",
       "      <th></th>\n",
       "      <th>quality_label</th>\n",
       "      <th>quality_label_Cat</th>\n",
       "    </tr>\n",
       "  </thead>\n",
       "  <tbody>\n",
       "    <tr>\n",
       "      <th>0</th>\n",
       "      <td>medium</td>\n",
       "      <td>1</td>\n",
       "    </tr>\n",
       "    <tr>\n",
       "      <th>1</th>\n",
       "      <td>medium</td>\n",
       "      <td>1</td>\n",
       "    </tr>\n",
       "    <tr>\n",
       "      <th>2</th>\n",
       "      <td>medium</td>\n",
       "      <td>1</td>\n",
       "    </tr>\n",
       "    <tr>\n",
       "      <th>3</th>\n",
       "      <td>medium</td>\n",
       "      <td>1</td>\n",
       "    </tr>\n",
       "    <tr>\n",
       "      <th>4</th>\n",
       "      <td>medium</td>\n",
       "      <td>1</td>\n",
       "    </tr>\n",
       "    <tr>\n",
       "      <th>...</th>\n",
       "      <td>...</td>\n",
       "      <td>...</td>\n",
       "    </tr>\n",
       "    <tr>\n",
       "      <th>4893</th>\n",
       "      <td>medium</td>\n",
       "      <td>1</td>\n",
       "    </tr>\n",
       "    <tr>\n",
       "      <th>4894</th>\n",
       "      <td>medium</td>\n",
       "      <td>1</td>\n",
       "    </tr>\n",
       "    <tr>\n",
       "      <th>4895</th>\n",
       "      <td>medium</td>\n",
       "      <td>1</td>\n",
       "    </tr>\n",
       "    <tr>\n",
       "      <th>4896</th>\n",
       "      <td>high</td>\n",
       "      <td>2</td>\n",
       "    </tr>\n",
       "    <tr>\n",
       "      <th>4897</th>\n",
       "      <td>medium</td>\n",
       "      <td>1</td>\n",
       "    </tr>\n",
       "  </tbody>\n",
       "</table>\n",
       "<p>4898 rows × 2 columns</p>\n",
       "</div>"
      ],
      "text/plain": [
       "     quality_label  quality_label_Cat\n",
       "0           medium                  1\n",
       "1           medium                  1\n",
       "2           medium                  1\n",
       "3           medium                  1\n",
       "4           medium                  1\n",
       "...            ...                ...\n",
       "4893        medium                  1\n",
       "4894        medium                  1\n",
       "4895        medium                  1\n",
       "4896          high                  2\n",
       "4897        medium                  1\n",
       "\n",
       "[4898 rows x 2 columns]"
      ]
     },
     "execution_count": 81,
     "metadata": {},
     "output_type": "execute_result"
    }
   ],
   "source": [
    "new_wine = pd.DataFrame(white_wine, columns=['quality_label'])\n",
    "\n",
    "new_wine['quality_label'] = new_wine['quality_label'].astype('category')\n",
    "\n",
    "new_wine['quality_label_Cat'] = new_wine['quality_label'].cat.codes\n",
    "\n",
    "new_wine"
   ]
  },
  {
   "cell_type": "code",
   "execution_count": 82,
   "metadata": {},
   "outputs": [],
   "source": [
    "x_data = white_wine[[\"fixed acidity\", \"volatile acidity\", \"citric acid\", \"residual sugar\", \"chlorides\", \"free sulfur dioxide\", \"total sulfur dioxide\", \"density\", \"pH\", \"sulphates\", \"alcohol\"]]\n",
    "y_data = new_wine[\"quality_label_Cat\"]\n"
   ]
  },
  {
   "cell_type": "code",
   "execution_count": 83,
   "metadata": {},
   "outputs": [
    {
     "data": {
      "text/plain": [
       "[      fixed acidity  volatile acidity  citric acid  residual sugar  chlorides  \\\n",
       " 0               7.0              0.27         0.36            20.7      0.045   \n",
       " 1               6.3              0.30         0.34             1.6      0.049   \n",
       " 2               8.1              0.28         0.40             6.9      0.050   \n",
       " 3               7.2              0.23         0.32             8.5      0.058   \n",
       " 4               7.2              0.23         0.32             8.5      0.058   \n",
       " ...             ...               ...          ...             ...        ...   \n",
       " 4893            6.2              0.21         0.29             1.6      0.039   \n",
       " 4894            6.6              0.32         0.36             8.0      0.047   \n",
       " 4895            6.5              0.24         0.19             1.2      0.041   \n",
       " 4896            5.5              0.29         0.30             1.1      0.022   \n",
       " 4897            6.0              0.21         0.38             0.8      0.020   \n",
       " \n",
       "       free sulfur dioxide  total sulfur dioxide  density    pH  sulphates  \\\n",
       " 0                    45.0                 170.0  1.00100  3.00       0.45   \n",
       " 1                    14.0                 132.0  0.99400  3.30       0.49   \n",
       " 2                    30.0                  97.0  0.99510  3.26       0.44   \n",
       " 3                    47.0                 186.0  0.99560  3.19       0.40   \n",
       " 4                    47.0                 186.0  0.99560  3.19       0.40   \n",
       " ...                   ...                   ...      ...   ...        ...   \n",
       " 4893                 24.0                  92.0  0.99114  3.27       0.50   \n",
       " 4894                 57.0                 168.0  0.99490  3.15       0.46   \n",
       " 4895                 30.0                 111.0  0.99254  2.99       0.46   \n",
       " 4896                 20.0                 110.0  0.98869  3.34       0.38   \n",
       " 4897                 22.0                  98.0  0.98941  3.26       0.32   \n",
       " \n",
       "       alcohol  quality quality_label  \n",
       " 0         8.8        6        medium  \n",
       " 1         9.5        6        medium  \n",
       " 2        10.1        6        medium  \n",
       " 3         9.9        6        medium  \n",
       " 4         9.9        6        medium  \n",
       " ...       ...      ...           ...  \n",
       " 4893     11.2        6        medium  \n",
       " 4894      9.6        5        medium  \n",
       " 4895      9.4        6        medium  \n",
       " 4896     12.8        7          high  \n",
       " 4897     11.8        6        medium  \n",
       " \n",
       " [4898 rows x 13 columns],\n",
       "      quality_label  quality_label_Cat\n",
       " 0           medium                  1\n",
       " 1           medium                  1\n",
       " 2           medium                  1\n",
       " 3           medium                  1\n",
       " 4           medium                  1\n",
       " ...            ...                ...\n",
       " 4893        medium                  1\n",
       " 4894        medium                  1\n",
       " 4895        medium                  1\n",
       " 4896          high                  2\n",
       " 4897        medium                  1\n",
       " \n",
       " [4898 rows x 2 columns]]"
      ]
     },
     "execution_count": 83,
     "metadata": {},
     "output_type": "execute_result"
    }
   ],
   "source": [
    "new_frame = [white_wine, new_wine]\n",
    "new_frame\n"
   ]
  },
  {
   "cell_type": "code",
   "execution_count": 84,
   "metadata": {},
   "outputs": [
    {
     "data": {
      "text/plain": [
       "(      fixed acidity  volatile acidity  citric acid  residual sugar  chlorides  \\\n",
       " 0               7.0              0.27         0.36           20.70      0.045   \n",
       " 1               6.3              0.30         0.34            1.60      0.049   \n",
       " 2               8.1              0.28         0.40            6.90      0.050   \n",
       " 3               7.2              0.23         0.32            8.50      0.058   \n",
       " 4               7.2              0.23         0.32            8.50      0.058   \n",
       " ...             ...               ...          ...             ...        ...   \n",
       " 3423            7.1              0.18         0.39           14.50      0.051   \n",
       " 3424            6.4              0.32         0.27            4.90      0.034   \n",
       " 3425            7.1              0.17         0.40           14.55      0.047   \n",
       " 3426            7.1              0.17         0.40           14.55      0.047   \n",
       " 3427            5.8              0.24         0.26           10.05      0.039   \n",
       " \n",
       "       free sulfur dioxide  total sulfur dioxide  density    pH  sulphates  \\\n",
       " 0                    45.0                 170.0  1.00100  3.00       0.45   \n",
       " 1                    14.0                 132.0  0.99400  3.30       0.49   \n",
       " 2                    30.0                  97.0  0.99510  3.26       0.44   \n",
       " 3                    47.0                 186.0  0.99560  3.19       0.40   \n",
       " 4                    47.0                 186.0  0.99560  3.19       0.40   \n",
       " ...                   ...                   ...      ...   ...        ...   \n",
       " 3423                 48.0                 156.0  0.99947  3.35       0.78   \n",
       " 3424                 18.0                 122.0  0.99160  3.36       0.71   \n",
       " 3425                 47.0                 156.0  0.99945  3.34       0.78   \n",
       " 3426                 47.0                 156.0  0.99945  3.34       0.78   \n",
       " 3427                 63.0                 162.0  0.99375  3.33       0.50   \n",
       " \n",
       "       alcohol  \n",
       " 0         8.8  \n",
       " 1         9.5  \n",
       " 2        10.1  \n",
       " 3         9.9  \n",
       " 4         9.9  \n",
       " ...       ...  \n",
       " 3423      9.1  \n",
       " 3424     12.5  \n",
       " 3425      9.1  \n",
       " 3426      9.1  \n",
       " 3427     11.2  \n",
       " \n",
       " [3428 rows x 11 columns],\n",
       "       fixed acidity  volatile acidity  citric acid  residual sugar  chlorides  \\\n",
       " 3428            6.4              0.32         0.27            4.90      0.034   \n",
       " 3429            7.1              0.18         0.39           14.50      0.051   \n",
       " 3430            7.1              0.17         0.40           14.55      0.047   \n",
       " 3431            7.1              0.18         0.39           15.25      0.047   \n",
       " 3432            7.8              0.29         0.29            3.15      0.044   \n",
       " ...             ...               ...          ...             ...        ...   \n",
       " 4893            6.2              0.21         0.29            1.60      0.039   \n",
       " 4894            6.6              0.32         0.36            8.00      0.047   \n",
       " 4895            6.5              0.24         0.19            1.20      0.041   \n",
       " 4896            5.5              0.29         0.30            1.10      0.022   \n",
       " 4897            6.0              0.21         0.38            0.80      0.020   \n",
       " \n",
       "       free sulfur dioxide  total sulfur dioxide  density    pH  sulphates  \\\n",
       " 3428                 18.0                 122.0  0.99160  3.36       0.71   \n",
       " 3429                 48.0                 156.0  0.99947  3.35       0.78   \n",
       " 3430                 47.0                 156.0  0.99945  3.34       0.78   \n",
       " 3431                 45.0                 158.0  0.99946  3.34       0.77   \n",
       " 3432                 41.0                 117.0  0.99153  3.24       0.35   \n",
       " ...                   ...                   ...      ...   ...        ...   \n",
       " 4893                 24.0                  92.0  0.99114  3.27       0.50   \n",
       " 4894                 57.0                 168.0  0.99490  3.15       0.46   \n",
       " 4895                 30.0                 111.0  0.99254  2.99       0.46   \n",
       " 4896                 20.0                 110.0  0.98869  3.34       0.38   \n",
       " 4897                 22.0                  98.0  0.98941  3.26       0.32   \n",
       " \n",
       "       alcohol  \n",
       " 3428     12.5  \n",
       " 3429      9.1  \n",
       " 3430      9.1  \n",
       " 3431      9.1  \n",
       " 3432     11.5  \n",
       " ...       ...  \n",
       " 4893     11.2  \n",
       " 4894      9.6  \n",
       " 4895      9.4  \n",
       " 4896     12.8  \n",
       " 4897     11.8  \n",
       " \n",
       " [1470 rows x 11 columns],\n",
       " 0       1\n",
       " 1       1\n",
       " 2       1\n",
       " 3       1\n",
       " 4       1\n",
       "        ..\n",
       " 3423    1\n",
       " 3424    1\n",
       " 3425    1\n",
       " 3426    1\n",
       " 3427    1\n",
       " Name: quality_label_Cat, Length: 3428, dtype: int8,\n",
       " 3428    1\n",
       " 3429    1\n",
       " 3430    1\n",
       " 3431    1\n",
       " 3432    1\n",
       "        ..\n",
       " 4893    1\n",
       " 4894    1\n",
       " 4895    1\n",
       " 4896    2\n",
       " 4897    1\n",
       " Name: quality_label_Cat, Length: 1470, dtype: int8)"
      ]
     },
     "execution_count": 84,
     "metadata": {},
     "output_type": "execute_result"
    }
   ],
   "source": [
    "from sklearn.model_selection import train_test_split\n",
    "\n",
    "x_train, x_test, y_train, y_test = train_test_split(x_data, y_data ,test_size = 0.3, shuffle=False)\n",
    "x_train, x_test, y_train, y_test\n",
    "\n",
    "#this is fine!"
   ]
  },
  {
   "cell_type": "code",
   "execution_count": 85,
   "metadata": {},
   "outputs": [],
   "source": [
    "# data normalisation with sklearn\n",
    "from sklearn.preprocessing import MinMaxScaler\n",
    "\n",
    "# fit scaler on training data\n",
    "norm = MinMaxScaler().fit(x_train)\n",
    "\n",
    "# transform training data\n",
    "X_train_norm = norm.transform(x_train)\n",
    "\n",
    "# transform testing data\n",
    "X_test_norm = norm.transform(x_test)"
   ]
  },
  {
   "cell_type": "code",
   "execution_count": 86,
   "metadata": {},
   "outputs": [
    {
     "data": {
      "text/plain": [
       "1470"
      ]
     },
     "execution_count": 86,
     "metadata": {},
     "output_type": "execute_result"
    }
   ],
   "source": [
    "len(x_test)"
   ]
  },
  {
   "cell_type": "code",
   "execution_count": 87,
   "metadata": {},
   "outputs": [],
   "source": [
    "from sklearn.metrics import confusion_matrix\n",
    "from sklearn.metrics import accuracy_score\n",
    "from sklearn.metrics import classification_report\n",
    "from sklearn.preprocessing import StandardScaler\n"
   ]
  },
  {
   "cell_type": "code",
   "execution_count": 88,
   "metadata": {},
   "outputs": [],
   "source": [
    "from sklearn.metrics import cohen_kappa_score"
   ]
  },
  {
   "cell_type": "code",
   "execution_count": 89,
   "metadata": {},
   "outputs": [],
   "source": [
    "#Random Forest"
   ]
  },
  {
   "cell_type": "code",
   "execution_count": 90,
   "metadata": {},
   "outputs": [
    {
     "data": {
      "text/plain": [
       "RandomForestClassifier(n_estimators=400)"
      ]
     },
     "execution_count": 90,
     "metadata": {},
     "output_type": "execute_result"
    }
   ],
   "source": [
    "from sklearn.ensemble import RandomForestClassifier\n",
    "model = RandomForestClassifier(n_estimators=400)\n",
    "model.fit(x_train, y_train)\n",
    "\n",
    "#ensemble used when using multiple algorithms to predict the outcome.\n",
    "#we are building multiple decision trees.\n",
    "#increase the estimators, get a higher score, in theory\n"
   ]
  },
  {
   "cell_type": "code",
   "execution_count": 91,
   "metadata": {},
   "outputs": [
    {
     "data": {
      "text/plain": [
       "0.7462585034013606"
      ]
     },
     "execution_count": 91,
     "metadata": {},
     "output_type": "execute_result"
    }
   ],
   "source": [
    "model.score (x_test, y_test)"
   ]
  },
  {
   "cell_type": "code",
   "execution_count": 92,
   "metadata": {},
   "outputs": [],
   "source": [
    "y_predicted = model.predict(x_test)"
   ]
  },
  {
   "cell_type": "code",
   "execution_count": 100,
   "metadata": {},
   "outputs": [
    {
     "data": {
      "text/plain": [
       "array([[  0,  37,   2],\n",
       "       [  2, 956, 169],\n",
       "       [  0, 163, 141]])"
      ]
     },
     "execution_count": 100,
     "metadata": {},
     "output_type": "execute_result"
    }
   ],
   "source": [
    "from sklearn.metrics import confusion_matrix\n",
    "cm = confusion_matrix(y_test, y_predicted)\n",
    "cm"
   ]
  },
  {
   "cell_type": "code",
   "execution_count": 94,
   "metadata": {},
   "outputs": [
    {
     "data": {
      "text/plain": [
       "Text(24.0, 0.5, 'Truth')"
      ]
     },
     "execution_count": 94,
     "metadata": {},
     "output_type": "execute_result"
    },
    {
     "data": {
      "image/png": "[encoded data removed]",
      "text/plain": [
       "<Figure size 360x288 with 2 Axes>"
      ]
     },
     "metadata": {
      "needs_background": "light"
     },
     "output_type": "display_data"
    }
   ],
   "source": [
    "%matplotlib inline\n",
    "\n",
    "import matplotlib.pyplot as plt\n",
    "import seaborn as sns\n",
    "plt.figure(figsize=(5,4))\n",
    "sns.heatmap(cm, annot=True)\n",
    "plt.xlabel(\"Predicted\")\n",
    "plt.ylabel(\"Truth\")"
   ]
  },
  {
   "cell_type": "code",
   "execution_count": 95,
   "metadata": {},
   "outputs": [],
   "source": [
    "pred_lr = lr.predict(x_test)"
   ]
  },
  {
   "cell_type": "code",
   "execution_count": 96,
   "metadata": {},
   "outputs": [
    {
     "name": "stdout",
     "output_type": "stream",
     "text": [
      "Confusion matrix:\n",
      "[[  0  33   6]\n",
      " [  0 934 193]\n",
      " [  0 144 160]]\n"
     ]
    }
   ],
   "source": [
    "print(\"Confusion matrix:\")\n",
    "print(confusion_matrix(y_test, pred_lr))"
   ]
  },
  {
   "cell_type": "code",
   "execution_count": 97,
   "metadata": {},
   "outputs": [
    {
     "name": "stdout",
     "output_type": "stream",
     "text": [
      "Accuracy score: 0.7442176870748299\n"
     ]
    }
   ],
   "source": [
    "print(\"Accuracy score:\", accuracy_score(y_test, pred_lr))"
   ]
  },
  {
   "cell_type": "code",
   "execution_count": 98,
   "metadata": {},
   "outputs": [
    {
     "name": "stdout",
     "output_type": "stream",
     "text": [
      "Cohen-Kappa score: 0.30881229311701\n"
     ]
    }
   ],
   "source": [
    "kappa = cohen_kappa_score(pred_lr, y_test)\n",
    "print(\"Cohen-Kappa score:\", kappa)"
   ]
  },
  {
   "cell_type": "code",
   "execution_count": 99,
   "metadata": {},
   "outputs": [],
   "source": [
    "#Here is one possible interpretation of Kappa:\n",
    "#Poor agreement = Less than 0.20 (including negative numbers)\n",
    "#Fair agreement = 0.20 to 0.40\n",
    "#Moderate agreement = 0.40 to 0.60\n",
    "#Good agreement = 0.60 to 0.80\n",
    "#Very good agreement = 0.80 to 1.00"
   ]
  }
 ],
 "metadata": {
  "kernelspec": {
   "display_name": "Python 3.9.12 ('base')",
   "language": "python",
   "name": "python3"
  },
  "language_info": {
   "codemirror_mode": {
    "name": "ipython",
    "version": 3
   },
   "file_extension": ".py",
   "mimetype": "text/x-python",
   "name": "python",
   "nbconvert_exporter": "python",
   "pygments_lexer": "ipython3",
   "version": "3.9.12"
  },
  "orig_nbformat": 4,
  "vscode": {
   "interpreter": {
    "hash": "53268d429fe8007277d58353424377c3c56a51408f44f169cee4649a7ccfd4de"
   }
  }
 },
 "nbformat": 4,
 "nbformat_minor": 2
}
